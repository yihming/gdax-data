{
 "cells": [
  {
   "cell_type": "markdown",
   "metadata": {},
   "source": [
    "# Find Missing Observations and Imputation"
   ]
  },
  {
   "cell_type": "code",
   "execution_count": 1,
   "metadata": {},
   "outputs": [],
   "source": [
    "import mysql.connector as M\n",
    "import pandas as pd\n",
    "import numpy as np\n",
    "import json\n",
    "from datetime import datetime"
   ]
  },
  {
   "cell_type": "markdown",
   "metadata": {},
   "source": [
    "This work is done by Python3, with packages listed above: \n",
    "* `mysql.connector`: the Python3 module name for MySQL-Connector, which is different from that for Python2;\n",
    "* `pandas`: Python standard package to process data as DataFrames;\n",
    "* `numpy`: Python package to handle numeric matrices, which is the bridge between Python data structures and Pandas DataFrame;\n",
    "* `json`: Used for parsing MySQL Database connection configuration from a json format file;\n",
    "* `datetime`: Package for transforming timestamp to datetime, and vice versa."
   ]
  },
  {
   "cell_type": "markdown",
   "metadata": {},
   "source": [
    "MySQL Python3 developer guide: https://dev.mysql.com/doc/connector-python/en/connector-python-versions.html. You can read the \"Code Example\" section in this link to know how to write SQL statements via Python3 on MySQL database."
   ]
  },
  {
   "cell_type": "markdown",
   "metadata": {},
   "source": [
    "## 1. Read in Data from MySQL"
   ]
  },
  {
   "cell_type": "markdown",
   "metadata": {},
   "source": [
    "First, construction the MySQL database connection. You are free to change the content in \"dbconn.json\" file in the same directory to your own. As a result, the retrieved data are stored as a Pandas DataFrame named `df_input`."
   ]
  },
  {
   "cell_type": "code",
   "execution_count": 2,
   "metadata": {},
   "outputs": [],
   "source": [
    "config = json.load(open('dbconn.json'))[\"mysql\"]\n",
    "db = M.connect(host = config[\"host\"],\n",
    "               user = config[\"user\"],\n",
    "               passwd = config[\"password\"],\n",
    "               db = config[\"database\"])\n",
    "\n",
    "query = \"SELECT * FROM gdax_history\"\n",
    "df_input = pd.read_sql(query, db)"
   ]
  },
  {
   "cell_type": "markdown",
   "metadata": {},
   "source": [
    "Here are the stats of this data frame:"
   ]
  },
  {
   "cell_type": "code",
   "execution_count": 3,
   "metadata": {},
   "outputs": [
    {
     "name": "stdout",
     "output_type": "stream",
     "text": [
      "Number of observations:  43199\n"
     ]
    },
    {
     "data": {
      "text/html": [
       "<div>\n",
       "<style scoped>\n",
       "    .dataframe tbody tr th:only-of-type {\n",
       "        vertical-align: middle;\n",
       "    }\n",
       "\n",
       "    .dataframe tbody tr th {\n",
       "        vertical-align: top;\n",
       "    }\n",
       "\n",
       "    .dataframe thead th {\n",
       "        text-align: right;\n",
       "    }\n",
       "</style>\n",
       "<table border=\"1\" class=\"dataframe\">\n",
       "  <thead>\n",
       "    <tr style=\"text-align: right;\">\n",
       "      <th></th>\n",
       "      <th>timestamp</th>\n",
       "      <th>low</th>\n",
       "      <th>high</th>\n",
       "      <th>open</th>\n",
       "      <th>close</th>\n",
       "      <th>volume</th>\n",
       "      <th>utc_datetime</th>\n",
       "      <th>mt_datetime</th>\n",
       "    </tr>\n",
       "  </thead>\n",
       "  <tbody>\n",
       "    <tr>\n",
       "      <th>0</th>\n",
       "      <td>1517788800</td>\n",
       "      <td>8167.90</td>\n",
       "      <td>8199.09</td>\n",
       "      <td>8167.90</td>\n",
       "      <td>8196.48</td>\n",
       "      <td>3.10897</td>\n",
       "      <td>2018-02-05 00:00:00</td>\n",
       "      <td>2018-02-04 17:00:00</td>\n",
       "    </tr>\n",
       "    <tr>\n",
       "      <th>1</th>\n",
       "      <td>1517788860</td>\n",
       "      <td>8196.48</td>\n",
       "      <td>8209.46</td>\n",
       "      <td>8196.49</td>\n",
       "      <td>8209.46</td>\n",
       "      <td>10.53460</td>\n",
       "      <td>2018-02-05 00:01:00</td>\n",
       "      <td>2018-02-04 17:01:00</td>\n",
       "    </tr>\n",
       "    <tr>\n",
       "      <th>2</th>\n",
       "      <td>1517788920</td>\n",
       "      <td>8209.45</td>\n",
       "      <td>8234.51</td>\n",
       "      <td>8209.45</td>\n",
       "      <td>8234.51</td>\n",
       "      <td>5.29278</td>\n",
       "      <td>2018-02-05 00:02:00</td>\n",
       "      <td>2018-02-04 17:02:00</td>\n",
       "    </tr>\n",
       "    <tr>\n",
       "      <th>3</th>\n",
       "      <td>1517788980</td>\n",
       "      <td>8229.75</td>\n",
       "      <td>8259.99</td>\n",
       "      <td>8229.75</td>\n",
       "      <td>8259.99</td>\n",
       "      <td>5.79800</td>\n",
       "      <td>2018-02-05 00:03:00</td>\n",
       "      <td>2018-02-04 17:03:00</td>\n",
       "    </tr>\n",
       "    <tr>\n",
       "      <th>4</th>\n",
       "      <td>1517789040</td>\n",
       "      <td>8259.99</td>\n",
       "      <td>8260.00</td>\n",
       "      <td>8260.00</td>\n",
       "      <td>8259.99</td>\n",
       "      <td>2.59747</td>\n",
       "      <td>2018-02-05 00:04:00</td>\n",
       "      <td>2018-02-04 17:04:00</td>\n",
       "    </tr>\n",
       "  </tbody>\n",
       "</table>\n",
       "</div>"
      ],
      "text/plain": [
       "    timestamp      low     high     open    close    volume  \\\n",
       "0  1517788800  8167.90  8199.09  8167.90  8196.48   3.10897   \n",
       "1  1517788860  8196.48  8209.46  8196.49  8209.46  10.53460   \n",
       "2  1517788920  8209.45  8234.51  8209.45  8234.51   5.29278   \n",
       "3  1517788980  8229.75  8259.99  8229.75  8259.99   5.79800   \n",
       "4  1517789040  8259.99  8260.00  8260.00  8259.99   2.59747   \n",
       "\n",
       "         utc_datetime         mt_datetime  \n",
       "0 2018-02-05 00:00:00 2018-02-04 17:00:00  \n",
       "1 2018-02-05 00:01:00 2018-02-04 17:01:00  \n",
       "2 2018-02-05 00:02:00 2018-02-04 17:02:00  \n",
       "3 2018-02-05 00:03:00 2018-02-04 17:03:00  \n",
       "4 2018-02-05 00:04:00 2018-02-04 17:04:00  "
      ]
     },
     "execution_count": 3,
     "metadata": {},
     "output_type": "execute_result"
    }
   ],
   "source": [
    "print(\"Number of observations: \", df_input.shape[0])\n",
    "df_input.head()"
   ]
  },
  {
   "cell_type": "markdown",
   "metadata": {},
   "source": [
    "## 2. Construct Another DataFrame of a Complete Set of Minutes"
   ]
  },
  {
   "cell_type": "markdown",
   "metadata": {},
   "source": [
    "Set the start and end timestamps as the first and last observations(rows) in `df_input`. Also set the interval between two observations as **1 minute**. Then generated a sequence of timestamps from `start_ts` to `end_ts` separated by `ts_step`.\n",
    "\n",
    "**Notice:** In the numpy function `arange`, parameter `stop` is excluded from the resulting sequence, so I put `end_ts + ts_step` instead of `end_ts` as the stopping timestamp, in order to keep `end_ts + ts_step` inside the generated sequence."
   ]
  },
  {
   "cell_type": "code",
   "execution_count": 4,
   "metadata": {},
   "outputs": [],
   "source": [
    "start_ts = df_input.iloc[0]['timestamp']   # Start timestamp\n",
    "end_ts = df_input.iloc[-1]['timestamp']    # End timestamp\n",
    "ts_step = 1 * 60    # 1 minute\n",
    "ts_seq = np.arange(start = start_ts, stop = end_ts + ts_step, step = ts_step)   # stop is (end_ts + ts_step), not end_ts."
   ]
  },
  {
   "cell_type": "markdown",
   "metadata": {},
   "source": [
    "Below is the stat of this new DataFrame:"
   ]
  },
  {
   "cell_type": "code",
   "execution_count": 5,
   "metadata": {},
   "outputs": [
    {
     "name": "stdout",
     "output_type": "stream",
     "text": [
      "Number of observations if no missing data:  43200\n"
     ]
    },
    {
     "data": {
      "text/html": [
       "<div>\n",
       "<style scoped>\n",
       "    .dataframe tbody tr th:only-of-type {\n",
       "        vertical-align: middle;\n",
       "    }\n",
       "\n",
       "    .dataframe tbody tr th {\n",
       "        vertical-align: top;\n",
       "    }\n",
       "\n",
       "    .dataframe thead th {\n",
       "        text-align: right;\n",
       "    }\n",
       "</style>\n",
       "<table border=\"1\" class=\"dataframe\">\n",
       "  <thead>\n",
       "    <tr style=\"text-align: right;\">\n",
       "      <th></th>\n",
       "      <th>timestamp</th>\n",
       "    </tr>\n",
       "  </thead>\n",
       "  <tbody>\n",
       "    <tr>\n",
       "      <th>0</th>\n",
       "      <td>1517788800</td>\n",
       "    </tr>\n",
       "    <tr>\n",
       "      <th>1</th>\n",
       "      <td>1517788860</td>\n",
       "    </tr>\n",
       "    <tr>\n",
       "      <th>2</th>\n",
       "      <td>1517788920</td>\n",
       "    </tr>\n",
       "    <tr>\n",
       "      <th>3</th>\n",
       "      <td>1517788980</td>\n",
       "    </tr>\n",
       "    <tr>\n",
       "      <th>4</th>\n",
       "      <td>1517789040</td>\n",
       "    </tr>\n",
       "  </tbody>\n",
       "</table>\n",
       "</div>"
      ],
      "text/plain": [
       "    timestamp\n",
       "0  1517788800\n",
       "1  1517788860\n",
       "2  1517788920\n",
       "3  1517788980\n",
       "4  1517789040"
      ]
     },
     "execution_count": 5,
     "metadata": {},
     "output_type": "execute_result"
    }
   ],
   "source": [
    "df_tsfull = pd.DataFrame(data = ts_seq, columns = ['timestamp'])\n",
    "print(\"Number of observations if no missing data: \", df_tsfull.shape[0])\n",
    "df_tsfull.head()"
   ]
  },
  {
   "cell_type": "markdown",
   "metadata": {},
   "source": [
    "By comparing the number of observations of the two data frames, we can see that there is one observation with no data.\n",
    "\n",
    "We can further generate the corresponding UTC date and time column for each timestamp, by defining the following function `timestamp_to_utcstr` (I simply copied its source code from `gdax_history.py` file):"
   ]
  },
  {
   "cell_type": "code",
   "execution_count": 6,
   "metadata": {},
   "outputs": [
    {
     "data": {
      "text/html": [
       "<div>\n",
       "<style scoped>\n",
       "    .dataframe tbody tr th:only-of-type {\n",
       "        vertical-align: middle;\n",
       "    }\n",
       "\n",
       "    .dataframe tbody tr th {\n",
       "        vertical-align: top;\n",
       "    }\n",
       "\n",
       "    .dataframe thead th {\n",
       "        text-align: right;\n",
       "    }\n",
       "</style>\n",
       "<table border=\"1\" class=\"dataframe\">\n",
       "  <thead>\n",
       "    <tr style=\"text-align: right;\">\n",
       "      <th></th>\n",
       "      <th>timestamp</th>\n",
       "      <th>utc_datetime</th>\n",
       "    </tr>\n",
       "  </thead>\n",
       "  <tbody>\n",
       "    <tr>\n",
       "      <th>0</th>\n",
       "      <td>1517788800</td>\n",
       "      <td>2018-02-05 00:00:00</td>\n",
       "    </tr>\n",
       "    <tr>\n",
       "      <th>1</th>\n",
       "      <td>1517788860</td>\n",
       "      <td>2018-02-05 00:01:00</td>\n",
       "    </tr>\n",
       "    <tr>\n",
       "      <th>2</th>\n",
       "      <td>1517788920</td>\n",
       "      <td>2018-02-05 00:02:00</td>\n",
       "    </tr>\n",
       "    <tr>\n",
       "      <th>3</th>\n",
       "      <td>1517788980</td>\n",
       "      <td>2018-02-05 00:03:00</td>\n",
       "    </tr>\n",
       "    <tr>\n",
       "      <th>4</th>\n",
       "      <td>1517789040</td>\n",
       "      <td>2018-02-05 00:04:00</td>\n",
       "    </tr>\n",
       "  </tbody>\n",
       "</table>\n",
       "</div>"
      ],
      "text/plain": [
       "    timestamp         utc_datetime\n",
       "0  1517788800  2018-02-05 00:00:00\n",
       "1  1517788860  2018-02-05 00:01:00\n",
       "2  1517788920  2018-02-05 00:02:00\n",
       "3  1517788980  2018-02-05 00:03:00\n",
       "4  1517789040  2018-02-05 00:04:00"
      ]
     },
     "execution_count": 6,
     "metadata": {},
     "output_type": "execute_result"
    }
   ],
   "source": [
    "def timestamp_to_utcstr(ts):\n",
    "    utc_str = datetime.utcfromtimestamp(ts).strftime(\"%Y-%m-%d %H:%M:%S\")\n",
    "    return utc_str\n",
    "\n",
    "df_tsfull['utc_datetime'] = df_tsfull.apply(lambda row: timestamp_to_utcstr(row['timestamp']), axis = 1)\n",
    "df_tsfull.head()"
   ]
  },
  {
   "cell_type": "markdown",
   "metadata": {},
   "source": [
    "## 3. Join the Two Data Frames"
   ]
  },
  {
   "cell_type": "markdown",
   "metadata": {},
   "source": [
    "We now have two data frames: `df_input` from the original table, and `df_tsfull` of a complete set of timestamps.\n",
    "\n",
    "To achieve a table of a complete set of timestamps and values of all the other columns, we need a join on the two data frames:\n",
    "1. If putting `df_input` as the left data frame, and `df_tsfull` as the right one, this is a RIGHT JOIN, because we want to maintain all the rows in `df_tsfull` as it contains a complete set of timestamps.\n",
    "2. We need to set the index of both tables as `timestamp`, in order to perform this join on `timestamp`. You can tell the index column of a Pandas DataFrame by checking the column of a bold font in its summary or head result.\n",
    "3. In the `join` function below, parameter `lsuffix` and `rsuffix` are used when we have columns of the same name from two tables. In this case, it is `utc_datetime`. So in the resulting DataFrame, the one from left DataFrame is renamed as `utc_datetime1`, while the other is renamed to `utc_datetime2`."
   ]
  },
  {
   "cell_type": "code",
   "execution_count": 7,
   "metadata": {},
   "outputs": [
    {
     "data": {
      "text/html": [
       "<div>\n",
       "<style scoped>\n",
       "    .dataframe tbody tr th:only-of-type {\n",
       "        vertical-align: middle;\n",
       "    }\n",
       "\n",
       "    .dataframe tbody tr th {\n",
       "        vertical-align: top;\n",
       "    }\n",
       "\n",
       "    .dataframe thead th {\n",
       "        text-align: right;\n",
       "    }\n",
       "</style>\n",
       "<table border=\"1\" class=\"dataframe\">\n",
       "  <thead>\n",
       "    <tr style=\"text-align: right;\">\n",
       "      <th></th>\n",
       "      <th>low</th>\n",
       "      <th>high</th>\n",
       "      <th>open</th>\n",
       "      <th>close</th>\n",
       "      <th>volume</th>\n",
       "      <th>utc_datetime1</th>\n",
       "      <th>mt_datetime</th>\n",
       "      <th>utc_datetime2</th>\n",
       "    </tr>\n",
       "    <tr>\n",
       "      <th>timestamp</th>\n",
       "      <th></th>\n",
       "      <th></th>\n",
       "      <th></th>\n",
       "      <th></th>\n",
       "      <th></th>\n",
       "      <th></th>\n",
       "      <th></th>\n",
       "      <th></th>\n",
       "    </tr>\n",
       "  </thead>\n",
       "  <tbody>\n",
       "    <tr>\n",
       "      <th>1517788800</th>\n",
       "      <td>8167.90</td>\n",
       "      <td>8199.09</td>\n",
       "      <td>8167.90</td>\n",
       "      <td>8196.48</td>\n",
       "      <td>3.10897</td>\n",
       "      <td>2018-02-05 00:00:00</td>\n",
       "      <td>2018-02-04 17:00:00</td>\n",
       "      <td>2018-02-05 00:00:00</td>\n",
       "    </tr>\n",
       "    <tr>\n",
       "      <th>1517788860</th>\n",
       "      <td>8196.48</td>\n",
       "      <td>8209.46</td>\n",
       "      <td>8196.49</td>\n",
       "      <td>8209.46</td>\n",
       "      <td>10.53460</td>\n",
       "      <td>2018-02-05 00:01:00</td>\n",
       "      <td>2018-02-04 17:01:00</td>\n",
       "      <td>2018-02-05 00:01:00</td>\n",
       "    </tr>\n",
       "    <tr>\n",
       "      <th>1517788920</th>\n",
       "      <td>8209.45</td>\n",
       "      <td>8234.51</td>\n",
       "      <td>8209.45</td>\n",
       "      <td>8234.51</td>\n",
       "      <td>5.29278</td>\n",
       "      <td>2018-02-05 00:02:00</td>\n",
       "      <td>2018-02-04 17:02:00</td>\n",
       "      <td>2018-02-05 00:02:00</td>\n",
       "    </tr>\n",
       "    <tr>\n",
       "      <th>1517788980</th>\n",
       "      <td>8229.75</td>\n",
       "      <td>8259.99</td>\n",
       "      <td>8229.75</td>\n",
       "      <td>8259.99</td>\n",
       "      <td>5.79800</td>\n",
       "      <td>2018-02-05 00:03:00</td>\n",
       "      <td>2018-02-04 17:03:00</td>\n",
       "      <td>2018-02-05 00:03:00</td>\n",
       "    </tr>\n",
       "    <tr>\n",
       "      <th>1517789040</th>\n",
       "      <td>8259.99</td>\n",
       "      <td>8260.00</td>\n",
       "      <td>8260.00</td>\n",
       "      <td>8259.99</td>\n",
       "      <td>2.59747</td>\n",
       "      <td>2018-02-05 00:04:00</td>\n",
       "      <td>2018-02-04 17:04:00</td>\n",
       "      <td>2018-02-05 00:04:00</td>\n",
       "    </tr>\n",
       "  </tbody>\n",
       "</table>\n",
       "</div>"
      ],
      "text/plain": [
       "                low     high     open    close    volume       utc_datetime1  \\\n",
       "timestamp                                                                      \n",
       "1517788800  8167.90  8199.09  8167.90  8196.48   3.10897 2018-02-05 00:00:00   \n",
       "1517788860  8196.48  8209.46  8196.49  8209.46  10.53460 2018-02-05 00:01:00   \n",
       "1517788920  8209.45  8234.51  8209.45  8234.51   5.29278 2018-02-05 00:02:00   \n",
       "1517788980  8229.75  8259.99  8229.75  8259.99   5.79800 2018-02-05 00:03:00   \n",
       "1517789040  8259.99  8260.00  8260.00  8259.99   2.59747 2018-02-05 00:04:00   \n",
       "\n",
       "                   mt_datetime        utc_datetime2  \n",
       "timestamp                                            \n",
       "1517788800 2018-02-04 17:00:00  2018-02-05 00:00:00  \n",
       "1517788860 2018-02-04 17:01:00  2018-02-05 00:01:00  \n",
       "1517788920 2018-02-04 17:02:00  2018-02-05 00:02:00  \n",
       "1517788980 2018-02-04 17:03:00  2018-02-05 00:03:00  \n",
       "1517789040 2018-02-04 17:04:00  2018-02-05 00:04:00  "
      ]
     },
     "execution_count": 7,
     "metadata": {},
     "output_type": "execute_result"
    }
   ],
   "source": [
    "df_join = df_input.set_index('timestamp').join(df_tsfull.set_index('timestamp'), how = 'right', \n",
    "                                               lsuffix = '1', rsuffix = '2')\n",
    "df_join.head()"
   ]
  },
  {
   "cell_type": "markdown",
   "metadata": {},
   "source": [
    "The generated DataFrame is shown above. And you can see that its index column is `timestamp`, which is in bold font.\n",
    "\n",
    "We can make the DataFrame simpler:\n",
    "* Drop columns `mt_datetime` and `utc_datetime1`. Notice that we do need to maintain `utc_datetime2` as it contains the UTC date time information on the complete set of timestamps, while `utc_datetime1` is not.\n",
    "* Rename `utc_datetime2` to `utc_datetime`.\n",
    "* Reset the index, so that `timestamp` is not the index, but a normal column. This step is optional, if you like treating `timestamp` as the index."
   ]
  },
  {
   "cell_type": "code",
   "execution_count": 8,
   "metadata": {},
   "outputs": [
    {
     "data": {
      "text/html": [
       "<div>\n",
       "<style scoped>\n",
       "    .dataframe tbody tr th:only-of-type {\n",
       "        vertical-align: middle;\n",
       "    }\n",
       "\n",
       "    .dataframe tbody tr th {\n",
       "        vertical-align: top;\n",
       "    }\n",
       "\n",
       "    .dataframe thead th {\n",
       "        text-align: right;\n",
       "    }\n",
       "</style>\n",
       "<table border=\"1\" class=\"dataframe\">\n",
       "  <thead>\n",
       "    <tr style=\"text-align: right;\">\n",
       "      <th></th>\n",
       "      <th>timestamp</th>\n",
       "      <th>low</th>\n",
       "      <th>high</th>\n",
       "      <th>open</th>\n",
       "      <th>close</th>\n",
       "      <th>volume</th>\n",
       "      <th>utc_datetime</th>\n",
       "    </tr>\n",
       "  </thead>\n",
       "  <tbody>\n",
       "    <tr>\n",
       "      <th>0</th>\n",
       "      <td>1517788800</td>\n",
       "      <td>8167.90</td>\n",
       "      <td>8199.09</td>\n",
       "      <td>8167.90</td>\n",
       "      <td>8196.48</td>\n",
       "      <td>3.10897</td>\n",
       "      <td>2018-02-05 00:00:00</td>\n",
       "    </tr>\n",
       "    <tr>\n",
       "      <th>1</th>\n",
       "      <td>1517788860</td>\n",
       "      <td>8196.48</td>\n",
       "      <td>8209.46</td>\n",
       "      <td>8196.49</td>\n",
       "      <td>8209.46</td>\n",
       "      <td>10.53460</td>\n",
       "      <td>2018-02-05 00:01:00</td>\n",
       "    </tr>\n",
       "    <tr>\n",
       "      <th>2</th>\n",
       "      <td>1517788920</td>\n",
       "      <td>8209.45</td>\n",
       "      <td>8234.51</td>\n",
       "      <td>8209.45</td>\n",
       "      <td>8234.51</td>\n",
       "      <td>5.29278</td>\n",
       "      <td>2018-02-05 00:02:00</td>\n",
       "    </tr>\n",
       "    <tr>\n",
       "      <th>3</th>\n",
       "      <td>1517788980</td>\n",
       "      <td>8229.75</td>\n",
       "      <td>8259.99</td>\n",
       "      <td>8229.75</td>\n",
       "      <td>8259.99</td>\n",
       "      <td>5.79800</td>\n",
       "      <td>2018-02-05 00:03:00</td>\n",
       "    </tr>\n",
       "    <tr>\n",
       "      <th>4</th>\n",
       "      <td>1517789040</td>\n",
       "      <td>8259.99</td>\n",
       "      <td>8260.00</td>\n",
       "      <td>8260.00</td>\n",
       "      <td>8259.99</td>\n",
       "      <td>2.59747</td>\n",
       "      <td>2018-02-05 00:04:00</td>\n",
       "    </tr>\n",
       "  </tbody>\n",
       "</table>\n",
       "</div>"
      ],
      "text/plain": [
       "    timestamp      low     high     open    close    volume  \\\n",
       "0  1517788800  8167.90  8199.09  8167.90  8196.48   3.10897   \n",
       "1  1517788860  8196.48  8209.46  8196.49  8209.46  10.53460   \n",
       "2  1517788920  8209.45  8234.51  8209.45  8234.51   5.29278   \n",
       "3  1517788980  8229.75  8259.99  8229.75  8259.99   5.79800   \n",
       "4  1517789040  8259.99  8260.00  8260.00  8259.99   2.59747   \n",
       "\n",
       "          utc_datetime  \n",
       "0  2018-02-05 00:00:00  \n",
       "1  2018-02-05 00:01:00  \n",
       "2  2018-02-05 00:02:00  \n",
       "3  2018-02-05 00:03:00  \n",
       "4  2018-02-05 00:04:00  "
      ]
     },
     "execution_count": 8,
     "metadata": {},
     "output_type": "execute_result"
    }
   ],
   "source": [
    "df_join = df_join.drop(columns = ['mt_datetime', 'utc_datetime1'])\n",
    "df_join = df_join.rename(columns = {'utc_datetime2': 'utc_datetime'})\n",
    "df_join = df_join.reset_index()\n",
    "df_join.head()"
   ]
  },
  {
   "cell_type": "markdown",
   "metadata": {},
   "source": [
    "Now we have a clean structure of this DataFrame, and we can find the observation with missing data as follows:"
   ]
  },
  {
   "cell_type": "code",
   "execution_count": 9,
   "metadata": {},
   "outputs": [
    {
     "data": {
      "text/html": [
       "<div>\n",
       "<style scoped>\n",
       "    .dataframe tbody tr th:only-of-type {\n",
       "        vertical-align: middle;\n",
       "    }\n",
       "\n",
       "    .dataframe tbody tr th {\n",
       "        vertical-align: top;\n",
       "    }\n",
       "\n",
       "    .dataframe thead th {\n",
       "        text-align: right;\n",
       "    }\n",
       "</style>\n",
       "<table border=\"1\" class=\"dataframe\">\n",
       "  <thead>\n",
       "    <tr style=\"text-align: right;\">\n",
       "      <th></th>\n",
       "      <th>timestamp</th>\n",
       "      <th>low</th>\n",
       "      <th>high</th>\n",
       "      <th>open</th>\n",
       "      <th>close</th>\n",
       "      <th>volume</th>\n",
       "      <th>utc_datetime</th>\n",
       "    </tr>\n",
       "  </thead>\n",
       "  <tbody>\n",
       "    <tr>\n",
       "      <th>33633</th>\n",
       "      <td>1519806780</td>\n",
       "      <td>NaN</td>\n",
       "      <td>NaN</td>\n",
       "      <td>NaN</td>\n",
       "      <td>NaN</td>\n",
       "      <td>NaN</td>\n",
       "      <td>2018-02-28 08:33:00</td>\n",
       "    </tr>\n",
       "  </tbody>\n",
       "</table>\n",
       "</div>"
      ],
      "text/plain": [
       "        timestamp  low  high  open  close  volume         utc_datetime\n",
       "33633  1519806780  NaN   NaN   NaN    NaN     NaN  2018-02-28 08:33:00"
      ]
     },
     "execution_count": 9,
     "metadata": {},
     "output_type": "execute_result"
    }
   ],
   "source": [
    "df_join.loc[df_join['volume'].isnull()]"
   ]
  },
  {
   "cell_type": "markdown",
   "metadata": {},
   "source": [
    "## Imputation"
   ]
  },
  {
   "cell_type": "markdown",
   "metadata": {},
   "source": [
    "We can perform imputation on this observation. Pandas has a function `interpolate` to do imputation on numeric variables using interpolation method. It also provides other methods on imputation. For details, please check: https://pandas.pydata.org/pandas-docs/stable/missing_data.html."
   ]
  },
  {
   "cell_type": "code",
   "execution_count": 10,
   "metadata": {},
   "outputs": [
    {
     "data": {
      "text/plain": [
       "timestamp                1519806780\n",
       "low                         10740.8\n",
       "high                        10755.9\n",
       "open                        10755.9\n",
       "close                       10740.8\n",
       "volume                      4.02093\n",
       "utc_datetime    2018-02-28 08:33:00\n",
       "Name: 33633, dtype: object"
      ]
     },
     "execution_count": 10,
     "metadata": {},
     "output_type": "execute_result"
    }
   ],
   "source": [
    "df_imp = df_join\n",
    "df_imp[['low', 'high', 'open', 'close', 'volume']] = df_imp[['low', 'high', 'open', 'close', 'volume']].interpolate()\n",
    "df_imp.iloc[33633]"
   ]
  },
  {
   "cell_type": "markdown",
   "metadata": {},
   "source": [
    "## Write to a New Table"
   ]
  },
  {
   "cell_type": "markdown",
   "metadata": {},
   "source": [
    "Now we are ready to write this imputed complete DataFrame back to database.\n",
    "\n",
    "We may think of creating a new table for this data:"
   ]
  },
  {
   "cell_type": "code",
   "execution_count": 11,
   "metadata": {},
   "outputs": [
    {
     "name": "stdout",
     "output_type": "stream",
     "text": [
      "OK.\n"
     ]
    },
    {
     "data": {
      "text/plain": [
       "True"
      ]
     },
     "execution_count": 11,
     "metadata": {},
     "output_type": "execute_result"
    }
   ],
   "source": [
    "table_desc = (\n",
    "    \"CREATE TABLE `gdax_history_imputed` (\"\n",
    "    \"  `timestamp` int(10) UNSIGNED NOT NULL,\"\n",
    "    \"  `low` float NOT NULL,\"\n",
    "    \"  `high` float NOT NULL,\"\n",
    "    \"  `open` float NOT NULL,\"\n",
    "    \"  `close` float NOT NULL,\"\n",
    "    \"  `volume` float NOT NULL,\"\n",
    "    \"  `utc_datetime` datetime NOT NULL,\"\n",
    "    \"  PRIMARY KEY (`timestamp`)\"\n",
    "    \") ENGINE=InnoDB DEFAULT CHARSET=utf8 COLLATE=utf8_bin\")\n",
    "\n",
    "cur = db.cursor()\n",
    "try:\n",
    "    cur.execute(table_desc)\n",
    "except M.Error as e:\n",
    "    print(e.msg)\n",
    "else:\n",
    "    print(\"OK.\")\n",
    "    \n",
    "cur.close()"
   ]
  },
  {
   "cell_type": "markdown",
   "metadata": {},
   "source": [
    "The new table name is `gdax_history_imputed`. The SQL statement in `table_desc` above is simplied copied from `cryptocurrency.sql` in this directory and modified."
   ]
  },
  {
   "cell_type": "markdown",
   "metadata": {},
   "source": [
    "Pandas has a function `to_sql` for DataFrame, but it uses a different Python package for connection to database. To be consistent in this notebook, I defined my own write function via MySQL-Connector package, which is quite similar to the one in `gdax_history.py`:"
   ]
  },
  {
   "cell_type": "code",
   "execution_count": 12,
   "metadata": {},
   "outputs": [],
   "source": [
    "def write_to_db(df, db):\n",
    "    if len(df) == 0:\n",
    "        return\n",
    "\n",
    "    cur = db.cursor()\n",
    "    df_hash = df.reset_index(drop = True).to_dict()\n",
    "    try:\n",
    "        for i in range(df.shape[0]):\n",
    "            cur.execute(\n",
    "                \"\"\"INSERT INTO gdax_history_imputed (timestamp, low, high, open, close, volume, utc_datetime)\n",
    "                VALUES (%s, %s, %s, %s, %s, %s, %s)\"\"\",\n",
    "                (df_hash['timestamp'][i], df_hash['low'][i], df_hash['high'][i], df_hash['open'][i],\n",
    "                 df_hash['close'][i], df_hash['volume'][i], df_hash['utc_datetime'][i]))\n",
    "        db.commit()\n",
    "    except M.Error as e:\n",
    "        print(e.msg)\n",
    "        db.rollback()\n",
    "    else:\n",
    "        print(\"Successfully write \", df.shape[0], \" entries to table.\")\n",
    "        \n",
    "    cur.close()"
   ]
  },
  {
   "cell_type": "markdown",
   "metadata": {},
   "source": [
    "The input of `write_to_db` is `df`, a Pandas DataFrame, and `db`, MySQL connection. In order to iterate each row in `df`, I first transform it into a Python dictionary (`df_hash`), with column names being the keys, and rows being the values.\n",
    "\n",
    "The reason that Pandas uses columns instead of rows as the keys, is that this is the standard way that NoSQL database handling big data to store the data. On the contrary, traditional relational database, such as MySQL, uses rows as the keys, but columns as the values.\n",
    "\n",
    "Finally, use this `write_to_db` function to write `df_imp` DataFrame to database. "
   ]
  },
  {
   "cell_type": "code",
   "execution_count": 13,
   "metadata": {},
   "outputs": [
    {
     "name": "stdout",
     "output_type": "stream",
     "text": [
      "Successfully write  10000  entries to table.\n",
      "Successfully write  10000  entries to table.\n",
      "Successfully write  10000  entries to table.\n",
      "Successfully write  10000  entries to table.\n",
      "Successfully write  3199  entries to table.\n"
     ]
    }
   ],
   "source": [
    "num_obs = df_imp.shape[0]\n",
    "num_per_turn = 10000\n",
    "start_idx = 0\n",
    "while start_idx < num_obs:\n",
    "    if num_obs - start_idx < num_per_turn:\n",
    "        df_slice = df_imp.iloc[start_idx:(num_obs - 1)]\n",
    "        write_to_db(df_slice, db)\n",
    "        start_idx = num_obs\n",
    "    else:\n",
    "        df_slice = df_imp.iloc[start_idx:(start_idx + num_per_turn)]\n",
    "        write_to_db(df_slice, db)\n",
    "        start_idx = start_idx + num_per_turn\n"
   ]
  }
 ],
 "metadata": {
  "kernelspec": {
   "display_name": "Python 3",
   "language": "python",
   "name": "python3"
  },
  "language_info": {
   "codemirror_mode": {
    "name": "ipython",
    "version": 3
   },
   "file_extension": ".py",
   "mimetype": "text/x-python",
   "name": "python",
   "nbconvert_exporter": "python",
   "pygments_lexer": "ipython3",
   "version": "3.6.6"
  }
 },
 "nbformat": 4,
 "nbformat_minor": 2
}
